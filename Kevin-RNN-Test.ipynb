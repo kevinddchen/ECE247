{
 "cells": [
  {
   "cell_type": "code",
   "execution_count": 4,
   "id": "recreational-admission",
   "metadata": {},
   "outputs": [],
   "source": [
    "import numpy as np\n",
    "import matplotlib.pyplot as plt"
   ]
  },
  {
   "cell_type": "code",
   "execution_count": 5,
   "id": "martial-sheriff",
   "metadata": {},
   "outputs": [],
   "source": [
    "## strange error only on macOS apparently \n",
    "## https://github.com/dmlc/xgboost/issues/1715\n",
    "import os\n",
    "os.environ['KMP_DUPLICATE_LIB_OK']='True'"
   ]
  },
  {
   "cell_type": "code",
   "execution_count": 6,
   "id": "signed-patent",
   "metadata": {},
   "outputs": [
    {
     "name": "stdout",
     "output_type": "stream",
     "text": [
      "(18628, 87)\n"
     ]
    }
   ],
   "source": [
    "## get data\n",
    "import readcsv\n",
    "data = readcsv.get_data().astype(np.float32)\n",
    "print(data.shape)"
   ]
  },
  {
   "cell_type": "code",
   "execution_count": 7,
   "id": "fantastic-buddy",
   "metadata": {
    "scrolled": true
   },
   "outputs": [
    {
     "name": "stdout",
     "output_type": "stream",
     "text": [
      "Training: (16628, 1)\n",
      "Validation: (1000, 1)\n",
      "Testing: (1000, 1)\n"
     ]
    }
   ],
   "source": [
    "## split into training, validation, and testing sets\n",
    "data_train = data[:-2000, 2:3]\n",
    "data_val = data[-2000:-1000, 2:3]\n",
    "data_test = data[-1000:, 2:3]\n",
    "print(\"Training:\", data_train.shape)\n",
    "print(\"Validation:\", data_val.shape)\n",
    "print(\"Testing:\", data_test.shape)"
   ]
  },
  {
   "cell_type": "code",
   "execution_count": 5,
   "id": "dimensional-trance",
   "metadata": {},
   "outputs": [
    {
     "name": "stdout",
     "output_type": "stream",
     "text": [
      "(7, 100, 1)\n",
      "(7, 5)\n"
     ]
    }
   ],
   "source": [
    "def generate_batches_X(data, batch_size, \n",
    "                     history=np.arange(100), \n",
    "                     forecast=np.arange(5), \n",
    "                     seed=0):\n",
    "    \"\"\"\n",
    "    Given data, generate batches of intervals, without replacement.\n",
    "    \n",
    "    - data: array, shape = (N, C)\n",
    "    - batch_size: integer\n",
    "    - history: array of history indices to learn from.\n",
    "    - forecast: array of forecast indices to predict.\n",
    "    - seed: seed for RNG\n",
    "    \n",
    "    returns: generator that yields (X, y)\n",
    "    - X: array, shape = (B, len(history), C)\n",
    "    - y: array, shape = (B, len(forecast))\n",
    "    \"\"\"\n",
    "    \n",
    "    np.random.seed(seed)\n",
    "    history = np.array(history)\n",
    "    forecast = np.array(forecast)\n",
    "    \n",
    "    N, C = data.shape\n",
    "    H_max = int(np.max(history))\n",
    "    F_max = int(np.max(forecast))\n",
    "    \n",
    "    X = np.zeros((batch_size, len(history), C))\n",
    "    y = np.zeros((batch_size, len(forecast)))\n",
    "    \n",
    "    i = 0   ## tracks index\n",
    "    k = 0   ## counts batch\n",
    "    M = N - H_max - F_max - 1   ## ceiling for i\n",
    "    while True:\n",
    "        \n",
    "        if k==batch_size:\n",
    "            k = 0\n",
    "            yield X, y\n",
    "            \n",
    "        i = np.random.randint(0, M)\n",
    "        X[k] = data[i+history]\n",
    "        y[k] = data[i+H_max+1+forecast, 0] ## USD-EUR Close is index 0\n",
    "        \n",
    "        k += 1\n",
    "\n",
    "## test\n",
    "G = generate_batches(data_train, 7)\n",
    "\n",
    "X, y = next(G)\n",
    "print(X.shape)\n",
    "print(y.shape)"
   ]
  },
  {
   "cell_type": "code",
   "execution_count": 8,
   "id": "dependent-pollution",
   "metadata": {},
   "outputs": [
    {
     "name": "stdout",
     "output_type": "stream",
     "text": [
      "(7, 100, 1)\n",
      "(7, 5)\n"
     ]
    }
   ],
   "source": [
    "def generate_batches(data, batch_size, \n",
    "                     history, \n",
    "                     forecast, \n",
    "                     seed=0):\n",
    "    \"\"\"\n",
    "    Given data, generate batches of intervals, without replacement.\n",
    "    \n",
    "    - data: array, shape = (N, C)\n",
    "    - batch_size: integer\n",
    "    - history: array of history indices to learn from.\n",
    "    - forecast: array of forecast indices to predict.\n",
    "    - seed: seed for RNG\n",
    "    \n",
    "    returns: generator that yields (X, y)\n",
    "    - X: array, shape = (B, len(history), C)\n",
    "    - y: array, shape = (B, len(forecast))\n",
    "    \"\"\"\n",
    "    \n",
    "    np.random.seed(seed)\n",
    "    \n",
    "    N, C = data.shape\n",
    "    \n",
    "    X = np.zeros((batch_size, history, C))\n",
    "    y = np.zeros((batch_size, forecast))\n",
    "    \n",
    "    i = 0   ## tracks index\n",
    "    k = 0   ## counts batch\n",
    "    M = N - history - forecast   ## ceiling for i\n",
    "    while True:\n",
    "        \n",
    "        if k==batch_size:\n",
    "            k = 0\n",
    "            yield X, y\n",
    "            \n",
    "        i = np.random.randint(0, M)\n",
    "        X[k] = data[i:i+history]\n",
    "        y[k] = data[i+history:i+history+forecast, 0] ## USD-EUR Close is index 0\n",
    "        \n",
    "        k += 1\n",
    "\n",
    "## test\n",
    "G = generate_batches(data_train, 7, 100, 5)\n",
    "\n",
    "X, y = next(G)\n",
    "print(X.shape)\n",
    "print(y.shape)"
   ]
  },
  {
   "cell_type": "code",
   "execution_count": 9,
   "id": "unusual-stack",
   "metadata": {
    "scrolled": true
   },
   "outputs": [],
   "source": [
    "import tensorflow as tf\n",
    "from tensorflow import keras\n",
    "import tensorflow.keras.models as models\n",
    "import tensorflow.keras.layers as layers\n",
    "\n",
    "## ===== model hyperparameters ======================\n",
    "#history = np.arange(100)\n",
    "#forecast = np.arange(0, 100, 10)   ## 10 predictions every 10-days \n",
    "history = 100\n",
    "forecast = 5\n",
    "## =================================================="
   ]
  },
  {
   "cell_type": "code",
   "execution_count": 10,
   "id": "extreme-output",
   "metadata": {},
   "outputs": [],
   "source": [
    "## generate validation and testing sets\n",
    "G = generate_batches(data_val, 100, history, forecast, seed=1)\n",
    "X_val, y_val = next(G)\n",
    "\n",
    "G = generate_batches(data_test, 100, history, forecast, seed=2)\n",
    "X_test, y_test = next(G)"
   ]
  },
  {
   "cell_type": "code",
   "execution_count": 11,
   "id": "present-storm",
   "metadata": {},
   "outputs": [
    {
     "name": "stdout",
     "output_type": "stream",
     "text": [
      "Model: \"sequential\"\n",
      "_________________________________________________________________\n",
      "Layer (type)                 Output Shape              Param #   \n",
      "=================================================================\n",
      "average_pooling1d (AveragePo (None, 20, 1)             0         \n",
      "_________________________________________________________________\n",
      "lstm (LSTM)                  (None, 16)                1152      \n",
      "_________________________________________________________________\n",
      "dense (Dense)                (None, 5)                 85        \n",
      "=================================================================\n",
      "Total params: 1,237\n",
      "Trainable params: 1,237\n",
      "Non-trainable params: 0\n",
      "_________________________________________________________________\n"
     ]
    }
   ],
   "source": [
    "## ===== optimizer ==================================\n",
    "initial_learning_rate = 5e-3\n",
    "decay_steps = 300\n",
    "decay_rate = 0.9\n",
    "## ==================================================\n",
    "\n",
    "lr_schedule = keras.optimizers.schedules.ExponentialDecay(\n",
    "    initial_learning_rate=initial_learning_rate, \n",
    "    decay_steps=decay_steps, \n",
    "    decay_rate=decay_rate)\n",
    "opt = keras.optimizers.Adam(learning_rate=lr_schedule)\n",
    "#opt = keras.optimizers.Adam(learning_rate=initial_learning_rate)\n",
    "\n",
    "H = history\n",
    "C = data_train.shape[1]\n",
    "F = forecast\n",
    "\n",
    "model = models.Sequential()\n",
    "model.add(layers.AveragePooling1D(5, input_shape=(H, C)))\n",
    "model.add(layers.LSTM(16))\n",
    "model.add(layers.Dense(F))\n",
    "model.compile(optimizer=opt, loss='mse')\n",
    "model.summary()"
   ]
  },
  {
   "cell_type": "code",
   "execution_count": 12,
   "id": "confused-compatibility",
   "metadata": {
    "scrolled": true
   },
   "outputs": [
    {
     "name": "stdout",
     "output_type": "stream",
     "text": [
      "Train on 1 samples\n",
      "1/1 [==============================] - 4s 4s/sample - loss: 0.8179\n",
      "1/1 [==============================] - 1s 968ms/sample - loss: 0.7391\n"
     ]
    },
    {
     "data": {
      "text/plain": [
       "0.739076554775238"
      ]
     },
     "execution_count": 12,
     "metadata": {},
     "output_type": "execute_result"
    }
   ],
   "source": [
    "## train on one data point\n",
    "G = generate_batches(data_train, 1, history, forecast, seed=0)\n",
    "X, y = next(G)\n",
    "\n",
    "model.fit(X, y, batch_size=1)\n",
    "model.evaluate(X, y, batch_size=1)"
   ]
  },
  {
   "cell_type": "code",
   "execution_count": null,
   "id": "latter-legend",
   "metadata": {},
   "outputs": [
    {
     "name": "stdout",
     "output_type": "stream",
     "text": [
      "Train for 300 steps, validate on 100 samples\n",
      "Epoch 1/20\n",
      "300/300 [==============================] - 15s 51ms/step - loss: 0.0235 - val_loss: 6.2568e-04\n",
      "Epoch 2/20\n",
      "300/300 [==============================] - 12s 41ms/step - loss: 4.4255e-04 - val_loss: 2.3668e-04\n",
      "Epoch 3/20\n",
      "156/300 [==============>...............] - ETA: 6s - loss: 3.5920e-04"
     ]
    }
   ],
   "source": [
    "## train!\n",
    "G = generate_batches(data_train, 50, history, forecast, seed=0)\n",
    "\n",
    "model.fit(G, steps_per_epoch=300, epochs=20, validation_data=(X_val, y_val))"
   ]
  },
  {
   "cell_type": "code",
   "execution_count": 12,
   "id": "domestic-combining",
   "metadata": {},
   "outputs": [
    {
     "data": {
      "image/png": "[encoded data removed]",
      "text/plain": [
       "<Figure size 432x288 with 1 Axes>"
      ]
     },
     "metadata": {
      "needs_background": "light"
     },
     "output_type": "display_data"
    }
   ],
   "source": [
    "train_loss = model.history.history['loss']\n",
    "val_loss = model.history.history['val_loss']\n",
    "\n",
    "plt.plot(train_loss, '-o', label='train')\n",
    "plt.plot(val_loss, '-o', label='val')\n",
    "plt.yscale('log')\n",
    "plt.legend()\n",
    "plt.show()"
   ]
  },
  {
   "cell_type": "code",
   "execution_count": 22,
   "id": "noticed-publisher",
   "metadata": {},
   "outputs": [],
   "source": [
    "actual = np.arange(5)\n",
    "G = generate_batches(data_test, 20, history, actual, seed=123)\n",
    "X, y = next(G)\n",
    "\n",
    "yhat = model.predict(X)\n",
    "ytarget = y[:, forecast]"
   ]
  },
  {
   "cell_type": "code",
   "execution_count": 27,
   "id": "built-bottom",
   "metadata": {},
   "outputs": [
    {
     "data": {
      "image/png": "[encoded data removed]",
      "text/plain": [
       "<Figure size 432x288 with 1 Axes>"
      ]
     },
     "metadata": {
      "needs_background": "light"
     },
     "output_type": "display_data"
    },
    {
     "name": "stdout",
     "output_type": "stream",
     "text": [
      "MSE: 3.805e-05\n"
     ]
    }
   ],
   "source": [
    "i = 5\n",
    "\n",
    "mse = np.mean(np.square(yhat[i] - ytarget[i]))\n",
    "\n",
    "H_max = int(np.max(history))\n",
    "plt.plot(history, X[i,:,0], label='history')\n",
    "plt.plot(H_max+forecast, yhat[i], label='forecast', color='green')\n",
    "plt.plot(H_max+actual, y[i], label='actual', color='orange')\n",
    "plt.legend()\n",
    "plt.show()\n",
    "print(\"MSE: %.3e\" % mse)"
   ]
  },
  {
   "cell_type": "code",
   "execution_count": null,
   "id": "adapted-contamination",
   "metadata": {},
   "outputs": [],
   "source": []
  }
 ],
 "metadata": {
  "kernelspec": {
   "display_name": "Python 3",
   "language": "python",
   "name": "python3"
  },
  "language_info": {
   "codemirror_mode": {
    "name": "ipython",
    "version": 3
   },
   "file_extension": ".py",
   "mimetype": "text/x-python",
   "name": "python",
   "nbconvert_exporter": "python",
   "pygments_lexer": "ipython3",
   "version": "3.7.10"
  }
 },
 "nbformat": 4,
 "nbformat_minor": 5
}
